{
 "cells": [
  {
   "cell_type": "code",
   "execution_count": 19,
   "id": "030b665b",
   "metadata": {},
   "outputs": [
    {
     "name": "stdout",
     "output_type": "stream",
     "text": [
      "送料として350円かかります\n",
      "送料込みの価格は1450円です。\n"
     ]
    }
   ],
   "source": [
    "price =int(input(\"税抜価格を入力してください：\"))\n",
    "\n",
    "def calc_price(price):\n",
    "    return int(1.1*price)\n",
    "\n",
    "if price >= 2000:\n",
    "    print(\"送料は無料です\")\n",
    "    print(f\"送料込みの価格は{calc_price(price)}円です。\")\n",
    "else :\n",
    "    print(\"送料として350円かかります\")\n",
    "    print(f\"送料込みの価格は{calc_price(price)+350}円です。\")\n"
   ]
  }
 ],
 "metadata": {
  "kernelspec": {
   "display_name": ".venv",
   "language": "python",
   "name": "python3"
  },
  "language_info": {
   "codemirror_mode": {
    "name": "ipython",
    "version": 3
   },
   "file_extension": ".py",
   "mimetype": "text/x-python",
   "name": "python",
   "nbconvert_exporter": "python",
   "pygments_lexer": "ipython3",
   "version": "3.12.7"
  }
 },
 "nbformat": 4,
 "nbformat_minor": 5
}
