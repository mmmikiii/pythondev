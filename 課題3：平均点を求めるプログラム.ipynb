{
 "cells": [
  {
   "cell_type": "code",
   "execution_count": 12,
   "id": "e7b770dc",
   "metadata": {},
   "outputs": [
    {
     "name": "stdout",
     "output_type": "stream",
     "text": [
      "点数を入力してください： 10\n",
      "点数を入力してください： 20\n",
      "点数を入力してください： 30\n",
      "点数を入力してください： 40\n",
      "点数を入力してください： 50\n",
      "5人のテストの平均点は30点です\n"
     ]
    }
   ],
   "source": [
    "count = 0\n",
    "total_score = 0\n",
    "\n",
    "while True:\n",
    "    score = int(input(\"次の点数：\"))\n",
    "\n",
    "    if score == -1:\n",
    "        break\n",
    "\n",
    "    count += 1\n",
    "    total_score += score\n",
    "    \n",
    "    print(\"点数を入力してください：\",score)\n",
    "    \n",
    "if count != 0:\n",
    "    average_score = int(total_score / count)\n",
    "print(f\"{count}人のテストの平均点は{round(average_score, 1)}点です\")\n"
   ]
  },
  {
   "cell_type": "code",
   "execution_count": null,
   "id": "ec6441c6",
   "metadata": {},
   "outputs": [],
   "source": []
  }
 ],
 "metadata": {
  "kernelspec": {
   "display_name": ".venv",
   "language": "python",
   "name": "python3"
  },
  "language_info": {
   "codemirror_mode": {
    "name": "ipython",
    "version": 3
   },
   "file_extension": ".py",
   "mimetype": "text/x-python",
   "name": "python",
   "nbconvert_exporter": "python",
   "pygments_lexer": "ipython3",
   "version": "3.12.7"
  }
 },
 "nbformat": 4,
 "nbformat_minor": 5
}
