{
 "cells": [
  {
   "cell_type": "code",
   "execution_count": 5,
   "id": "e7b770dc",
   "metadata": {},
   "outputs": [
    {
     "name": "stdout",
     "output_type": "stream",
     "text": [
      "点数を入力してください： 10\n",
      "点数を入力してください： 20\n",
      "点数を入力してください： 30\n",
      "点数を入力してください： 40\n",
      "点数を入力してください： 50\n",
      "点数を入力してください： 60\n",
      "点数を入力してください： 70\n",
      "点数を入力してください： 80\n",
      "点数を入力してください： 90\n",
      "点数を入力してください： -1\n",
      "10人のテストの平均点は54点です\n"
     ]
    }
   ],
   "source": [
    "count = 0\n",
    "total_score = 0\n",
    "\n",
    "score = int(input(\"点数を入力してください：\"))\n",
    "\n",
    "while score != -1:\n",
    "    count += 1                 # 人数を1人カウント\n",
    "    total_score += score       # 合計点に加算\n",
    "    score = int(input(\"点数を入力してください：\"))  # 次の点数入力\n",
    "    print(\"点数を入力してください：\",score)\n",
    "    if score == -1:\n",
    "        break\n",
    "# 平均を計算して表示\n",
    "if count != 0:\n",
    "    average_score = int(total_score / count)\n",
    "print(f\"{count}人のテストの平均点は{round(average_score, 1)}点です\")\n"
   ]
  }
 ],
 "metadata": {
  "kernelspec": {
   "display_name": ".venv",
   "language": "python",
   "name": "python3"
  },
  "language_info": {
   "codemirror_mode": {
    "name": "ipython",
    "version": 3
   },
   "file_extension": ".py",
   "mimetype": "text/x-python",
   "name": "python",
   "nbconvert_exporter": "python",
   "pygments_lexer": "ipython3",
   "version": "3.12.7"
  }
 },
 "nbformat": 4,
 "nbformat_minor": 5
}
