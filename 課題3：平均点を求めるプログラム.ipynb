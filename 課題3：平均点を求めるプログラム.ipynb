{
 "cells": [
  {
   "cell_type": "code",
   "execution_count": 4,
   "id": "e7b770dc",
   "metadata": {},
   "outputs": [
    {
     "name": "stdout",
     "output_type": "stream",
     "text": [
      "10人のテストの平均点は45点です\n"
     ]
    }
   ],
   "source": [
    "count = 0\n",
    "total_score = 0\n",
    "\n",
    "score = int(input(\"点数を入力してください：\"))\n",
    "\n",
    "while score != -1:\n",
    "    count += 1                 # 人数を1人カウント\n",
    "    total_score += score       # 合計点に加算\n",
    "    score = int(input(\"点数を入力してください：\"))  # 次の点数入力\n",
    "\n",
    "    if score == -1:\n",
    "        break\n",
    "# 平均を計算して表示\n",
    "if count != 0:\n",
    "    average_score = int(total_score / count)\n",
    "print(f\"{count}人のテストの平均点は{round(average_score, 1)}点です\")\n"
   ]
  }
 ],
 "metadata": {
  "kernelspec": {
   "display_name": ".venv",
   "language": "python",
   "name": "python3"
  },
  "language_info": {
   "codemirror_mode": {
    "name": "ipython",
    "version": 3
   },
   "file_extension": ".py",
   "mimetype": "text/x-python",
   "name": "python",
   "nbconvert_exporter": "python",
   "pygments_lexer": "ipython3",
   "version": "3.12.7"
  }
 },
 "nbformat": 4,
 "nbformat_minor": 5
}
