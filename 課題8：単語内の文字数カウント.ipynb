{
 "cells": [
  {
   "cell_type": "code",
   "execution_count": 20,
   "id": "4f11621d",
   "metadata": {},
   "outputs": [
    {
     "name": "stdout",
     "output_type": "stream",
     "text": [
      "英単語を入力してください: hihi\n",
      "英単語を入力してください: no\n",
      "英単語を入力してください: eo\n",
      "英単語を入力してください: aa\n",
      "英単語を入力してください: da\n",
      "英単語を入力してください: wa\n",
      "英単語を入力してください:\n",
      "入力した英単語:['aa', 'da', 'eo', 'hihi', 'no', 'wa']\n",
      "'a' は 4 回出現しました\n",
      "'d' は 1 回出現しました\n",
      "'e' は 1 回出現しました\n",
      "'h' は 2 回出現しました\n",
      "'i' は 2 回出現しました\n",
      "'n' は 1 回出現しました\n",
      "'o' は 2 回出現しました\n",
      "'w' は 1 回出現しました\n"
     ]
    }
   ],
   "source": [
    "\n",
    "# dict\n",
    "alphabet_code = dict.fromkeys(list(\"abcdefghijklmnopqrstuvwxyz\"), 0)\n",
    "\n",
    "# 空のリストを作成\n",
    "items = []\n",
    "while True:\n",
    "    first = input()\n",
    "    if first == \"\":\n",
    "        second = input()\n",
    "        if second == \"\":\n",
    "           print(f\"英単語を入力してください:\")\n",
    "           break\n",
    "        else:\n",
    "            items.append(second)\n",
    "            print(f\"英単語を入力してください: {second}\")\n",
    "    else:\n",
    "        items.append(first)\n",
    "        print(f\"英単語を入力してください: {first}\")\n",
    "\n",
    "\n",
    "# keys\n",
    "sorted_words = sorted(items)\n",
    "print(f\"入力した英単語:{sorted_words}\")\n",
    "\n",
    "\n",
    "# count\n",
    "for word in sorted_words:\n",
    "    for char in word.lower():  # 念のため小文字に揃える\n",
    "        if char in alphabet_code:\n",
    "            alphabet_code[char] += 1\n",
    "\n",
    "# 結果表示\n",
    "for letter, count in alphabet_code.items():\n",
    "    if count > 0:\n",
    "        print(f\"'{letter}' は {count} 回出現しました\")\n"
   ]
  },
  {
   "cell_type": "code",
   "execution_count": null,
   "id": "0350d32f",
   "metadata": {},
   "outputs": [],
   "source": []
  }
 ],
 "metadata": {
  "kernelspec": {
   "display_name": ".venv",
   "language": "python",
   "name": "python3"
  },
  "language_info": {
   "codemirror_mode": {
    "name": "ipython",
    "version": 3
   },
   "file_extension": ".py",
   "mimetype": "text/x-python",
   "name": "python",
   "nbconvert_exporter": "python",
   "pygments_lexer": "ipython3",
   "version": "3.12.7"
  }
 },
 "nbformat": 4,
 "nbformat_minor": 5
}
