{
 "cells": [
  {
   "cell_type": "code",
   "execution_count": 44,
   "id": "fdc05b2b",
   "metadata": {},
   "outputs": [
    {
     "name": "stdout",
     "output_type": "stream",
     "text": [
      "何番目の数値を求めますか？： 10\n",
      "55\n"
     ]
    }
   ],
   "source": [
    "import prognum\n",
    "\n",
    "\n",
    "while True:\n",
    "    user_input = input(\"何番目の数値を求めますか？：\")\n",
    "    try:\n",
    "        n = int(user_input)\n",
    "        break\n",
    "    except ValueError:\n",
    "        print(\"数字を入力してください。\")\n",
    "\n",
    "print(\"何番目の数値を求めますか？：\",n)\n",
    "print(fibonacci(n))"
   ]
  },
  {
   "cell_type": "code",
   "execution_count": null,
   "id": "2604356c",
   "metadata": {},
   "outputs": [],
   "source": []
  }
 ],
 "metadata": {
  "kernelspec": {
   "display_name": ".venv",
   "language": "python",
   "name": "python3"
  },
  "language_info": {
   "codemirror_mode": {
    "name": "ipython",
    "version": 3
   },
   "file_extension": ".py",
   "mimetype": "text/x-python",
   "name": "python",
   "nbconvert_exporter": "python",
   "pygments_lexer": "ipython3",
   "version": "3.12.7"
  }
 },
 "nbformat": 4,
 "nbformat_minor": 5
}
