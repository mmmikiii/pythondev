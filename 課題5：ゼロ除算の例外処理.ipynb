{
 "cells": [
  {
   "cell_type": "code",
   "execution_count": 6,
   "id": "83a93b03",
   "metadata": {},
   "outputs": [
    {
     "name": "stdout",
     "output_type": "stream",
     "text": [
      "割られる数を入力してください：abc\n",
      "割る数を入力してください：0\n",
      "エラー：数値を入力してください\n",
      "処理を終了します\n"
     ]
    }
   ],
   "source": [
    "try:\n",
    "    a = input(\"割られる数を入力してください：\")\n",
    "    b = input(\"割る数を入力してください：\")\n",
    "\n",
    "    # int変換で例外処理\n",
    "    a_int = int(a)\n",
    "    b_int = int(b)\n",
    "    c = a_int / b_int\n",
    "except ZeroDivisionError:\n",
    "    print(f\"割られる数を入力してください：{a}\")\n",
    "    print(f\"割る数を入力してください：{b}\")\n",
    "    print(\"エラー: 0で割り算しないでください\")\n",
    "except ValueError:\n",
    "    print(f\"割られる数を入力してください：{a}\")\n",
    "    print(f\"割る数を入力してください：{b}\")\n",
    "    print(\"エラー：数値を入力してください\")\n",
    "else:\n",
    "    print(f\"割られる数を入力してください：{a_int}\")\n",
    "    print(f\"割る数を入力してください：{b_int}\")\n",
    "    print(f\"{a_int} ÷ {b_int} = {c:.1f}\")\n",
    "finally:\n",
    "    print(\"処理を終了します\")\n"
   ]
  }
 ],
 "metadata": {
  "kernelspec": {
   "display_name": ".venv",
   "language": "python",
   "name": "python3"
  },
  "language_info": {
   "codemirror_mode": {
    "name": "ipython",
    "version": 3
   },
   "file_extension": ".py",
   "mimetype": "text/x-python",
   "name": "python",
   "nbconvert_exporter": "python",
   "pygments_lexer": "ipython3",
   "version": "3.12.7"
  }
 },
 "nbformat": 4,
 "nbformat_minor": 5
}
